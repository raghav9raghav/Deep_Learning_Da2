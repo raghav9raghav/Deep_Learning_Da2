{
 "cells": [
  {
   "cell_type": "code",
   "execution_count": 1,
   "id": "abb0ebd2-da72-4420-b8f8-563349903081",
   "metadata": {},
   "outputs": [
    {
     "name": "stdin",
     "output_type": "stream",
     "text": [
      "Enter the Value of Weight 13\n"
     ]
    },
    {
     "name": "stdout",
     "output_type": "stream",
     "text": [
      "Predicted Output:  [ 0 13 26 39 52]\n",
      "Desired Output:  [ 0  6 12 18 24]\n",
      "Errors [ 0  7 14 21 28]\n"
     ]
    },
    {
     "name": "stdin",
     "output_type": "stream",
     "text": [
      "Enter the Value of Weight 31\n"
     ]
    },
    {
     "name": "stdout",
     "output_type": "stream",
     "text": [
      "Predicted Output:  [  0  31  62  93 124]\n",
      "Desired Output:  [ 0  6 12 18 24]\n",
      "Errors [  0  25  50  75 100]\n"
     ]
    },
    {
     "name": "stdin",
     "output_type": "stream",
     "text": [
      "Enter the Value of Weight 29\n"
     ]
    },
    {
     "name": "stdout",
     "output_type": "stream",
     "text": [
      "Predicted Output:  [  0  29  58  87 116]\n",
      "Desired Output:  [ 0  6 12 18 24]\n",
      "Errors [ 0 23 46 69 92]\n"
     ]
    }
   ],
   "source": [
    "import numpy as np\n",
    "train_inputs = np.array([0,1,2,3,4])\n",
    "train_outputs = np.array([0, 6, 12, 18,24])\n",
    "for i in range(3):\n",
    "    Weight=int(input(\"Enter the Value of Weight\"))\n",
    "    pred_output=train_inputs*Weight\n",
    "    error=pred_output-train_outputs\n",
    "    print(\"Predicted Output: \",pred_output)\n",
    "    print(\"Desired Output: \",train_outputs)\n",
    "    print(\"Errors\",error)"
   ]
  },
  {
   "cell_type": "code",
   "execution_count": 3,
   "id": "579efd4c-91af-43ad-ac31-103c98deaf62",
   "metadata": {},
   "outputs": [
    {
     "name": "stdout",
     "output_type": "stream",
     "text": [
      "Weight Matrix: \n",
      "[[4.17022005e-01]\n",
      " [7.20324493e-01]\n",
      " [1.14374817e-04]]\n",
      "Input: \n",
      "[[1 2 3]\n",
      " [1 0 2]\n",
      " [0 1 4]\n",
      " [2 1 4]]\n",
      "Predicted output: \n",
      "[[0.86506531]\n",
      " [0.60282519]\n",
      " [0.67277919]\n",
      " [0.82560966]]\n"
     ]
    }
   ],
   "source": [
    "import numpy as np\n",
    "D=np.array([[1,2,3],\n",
    "          [1,0,2],\n",
    "          [0,1,4],\n",
    "          [2,1,4]])\n",
    "np.random.seed(1)\n",
    "w=np.random.random((3,1))\n",
    "print(\"Weight Matrix: \")\n",
    "print(w)\n",
    "for i in range(1):\n",
    "    il=D\n",
    "    op=np.dot(il,w)\n",
    "    ol=1/(1+np.exp(-op))\n",
    "print(\"Input: \")\n",
    "print(D)\n",
    "print(\"Predicted output: \")\n",
    "print(ol)"
   ]
  },
  {
   "cell_type": "code",
   "execution_count": 5,
   "id": "70b42f1e-7dc3-4f30-9b50-e42ee7801a8e",
   "metadata": {},
   "outputs": [
    {
     "name": "stdout",
     "output_type": "stream",
     "text": [
      "Weight Matrix: \n",
      "[[4.17022005e-01 7.20324493e-01]\n",
      " [1.14374817e-04 3.02332573e-01]\n",
      " [1.46755891e-01 9.23385948e-02]]\n",
      "Input: \n",
      "[[1 2 3]\n",
      " [1 0 2]\n",
      " [0 1 4]\n",
      " [2 1 4]]\n",
      "Predicted output: \n",
      "[[0.70214192 0.83229848]\n",
      " [0.6705191  0.71197626]\n",
      " [0.64270819 0.66188079]\n",
      " [0.80552364 0.8920964 ]]\n"
     ]
    }
   ],
   "source": [
    "import numpy as np\n",
    "D=np.array([[1,2,3],\n",
    "          [1,0,2],\n",
    "          [0,1,4],\n",
    "          [2,1,4]])\n",
    "np.random.seed(1)\n",
    "w=np.random.random((3,2))\n",
    "print(\"Weight Matrix: \")\n",
    "print(w)\n",
    "for i in range(1):\n",
    "    il=D\n",
    "    op=np.dot(il,w)\n",
    "    ol=1/(1+np.exp(-op))\n",
    "print(\"Input: \")\n",
    "print(D)\n",
    "print(\"Predicted output: \")\n",
    "print(ol)"
   ]
  },
  {
   "cell_type": "code",
   "execution_count": 7,
   "id": "3dc77bed-69fa-49f0-bf1d-22291877f44d",
   "metadata": {},
   "outputs": [
    {
     "name": "stdout",
     "output_type": "stream",
     "text": [
      "Weight Matrix: \n",
      "[[4.17022005e-01 7.20324493e-01 1.14374817e-04 3.02332573e-01]\n",
      " [1.46755891e-01 9.23385948e-02 1.86260211e-01 3.45560727e-01]\n",
      " [3.96767474e-01 5.38816734e-01 4.19194514e-01 6.85219500e-01]]\n",
      "V weight matrix\n",
      "Input: \n",
      "[[1 2 3]\n",
      " [1 0 2]\n",
      " [0 1 4]\n",
      " [2 1 4]]\n",
      "Predicted output: \n",
      "[[0.66512221 0.88502169]\n",
      " [0.64349012 0.85918454]\n",
      " [0.66686308 0.88347877]\n",
      " [0.67146728 0.89535013]]\n"
     ]
    }
   ],
   "source": [
    "import numpy as np\n",
    "D=np.array([[1,2,3],\n",
    "          [1,0,2],\n",
    "          [0,1,4],\n",
    "          [2,1,4]])\n",
    "np.random.seed(1)\n",
    "w=np.random.random((3,4))\n",
    "print(\"Weight Matrix: \")\n",
    "print(w)\n",
    "print(\"V weight matrix\")\n",
    "v=np.random.random((4,2))\n",
    "for i in range(1):\n",
    "    il=D\n",
    "    hp=np.dot(il,w)\n",
    "    hl=1/(1+np.exp(-hp))\n",
    "    op=np.dot(hl,v)\n",
    "    ol=1/(1+np.exp(-op))\n",
    "print(\"Input: \")\n",
    "print(D)\n",
    "print(\"Predicted output: \")\n",
    "print(ol)"
   ]
  },
  {
   "cell_type": "code",
   "execution_count": null,
   "id": "e939bc9d-a64b-4dcd-a53d-973a80033294",
   "metadata": {},
   "outputs": [],
   "source": []
  }
 ],
 "metadata": {
  "kernelspec": {
   "display_name": "Python 3 (ipykernel)",
   "language": "python",
   "name": "python3"
  },
  "language_info": {
   "codemirror_mode": {
    "name": "ipython",
    "version": 3
   },
   "file_extension": ".py",
   "mimetype": "text/x-python",
   "name": "python",
   "nbconvert_exporter": "python",
   "pygments_lexer": "ipython3",
   "version": "3.12.4"
  }
 },
 "nbformat": 4,
 "nbformat_minor": 5
}
